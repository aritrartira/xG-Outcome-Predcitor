{
  "nbformat": 4,
  "nbformat_minor": 0,
  "metadata": {
    "colab": {
      "name": "get_xG_data.ipynb",
      "private_outputs": true,
      "provenance": [],
      "collapsed_sections": [],
      "authorship_tag": "ABX9TyO30yDIt6upIrSJyUIegclO",
      "include_colab_link": true
    },
    "kernelspec": {
      "name": "python3",
      "display_name": "Python 3"
    }
  },
  "cells": [
    {
      "cell_type": "markdown",
      "metadata": {
        "id": "view-in-github",
        "colab_type": "text"
      },
      "source": [
        "<a href=\"https://colab.research.google.com/github/aritrartira/xG-Outcome-Predcitor/blob/main/src/get_xG_data.ipynb\" target=\"_parent\"><img src=\"https://colab.research.google.com/assets/colab-badge.svg\" alt=\"Open In Colab\"/></a>"
      ]
    },
    {
      "cell_type": "markdown",
      "metadata": {
        "id": "IUdjBiGCpuc9"
      },
      "source": [
        "# Installing understat package"
      ]
    },
    {
      "cell_type": "code",
      "metadata": {
        "id": "EeC6Ee5zpTVi"
      },
      "source": [
        "!pip install aiohttp\n",
        "!pip install understat"
      ],
      "execution_count": null,
      "outputs": []
    },
    {
      "cell_type": "markdown",
      "metadata": {
        "id": "noYdLH_rp1jP"
      },
      "source": [
        "#Scrape Data"
      ]
    },
    {
      "cell_type": "code",
      "metadata": {
        "id": "Kjmea21mrzhl"
      },
      "source": [
        "import asyncio\n",
        "import json\n",
        "\n",
        "import aiohttp\n",
        "\n",
        "from understat import Understat\n",
        "\n",
        "import nest_asyncio\n",
        "nest_asyncio.apply()\n",
        "__import__('IPython').embed()"
      ],
      "execution_count": null,
      "outputs": []
    },
    {
      "cell_type": "code",
      "metadata": {
        "id": "DUnEihVBpt1h"
      },
      "source": [
        "def get_xG_data(match_id):\n",
        "    async def f():\n",
        "        global match_shots\n",
        "\n",
        "        async with aiohttp.ClientSession() as session:\n",
        "            understat = Understat(session)\n",
        "            match_shots = await understat.get_match_shots(match_id)\n",
        "            shots = json.dumps(player_shots)\n",
        "            \n",
        "\n",
        "    loop = asyncio.get_event_loop()\n",
        "    loop.run_until_complete(f())\n",
        "\n",
        "    A_xG = []\n",
        "    B_xG = []\n",
        "\n",
        "    for shot in match_shots['h']:\n",
        "        A_xG.append(float(shot['xG']))\n",
        "\n",
        "    for shot in match_shots['a']:\n",
        "        B_xG.append(float(shot['xG']))\n",
        "\n",
        "    return A_xG, B_xG"
      ],
      "execution_count": null,
      "outputs": []
    },
    {
      "cell_type": "code",
      "metadata": {
        "id": "tamVYgMzsgtr"
      },
      "source": [
        "get_xG_data(14000)"
      ],
      "execution_count": null,
      "outputs": []
    }
  ]
}